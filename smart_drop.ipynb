{
 "cells": [
  {
   "cell_type": "markdown",
   "metadata": {},
   "source": [
    "# Smartphone Drop"
   ]
  },
  {
   "cell_type": "markdown",
   "metadata": {},
   "source": [
    "You work for a tech firm developing the newest smartphone that supposedly can survive falls from great heights. Your firm wants to advertise the maximum height from which the phone can be dropped without breaking.\n",
    "\n",
    "You are given two of the smartphones and access to a 100-story tower from which you can drop either phone from whatever story you want. If it doesn’t break when it falls, you can retrieve it and use it for future drops. But if it breaks, you don’t get a replacement phone.\n",
    "\n",
    "Using the two phones, what is the minimum number of drops you need to ensure that you can determine exactly the highest story from which a dropped phone does not break? "
   ]
  },
  {
   "cell_type": "markdown",
   "metadata": {},
   "source": [
    "We will denote n1 and n2 to be the number of drops from the first and second phones respectively. For our experiment we will drop the first phone at intervals greater than one until it breaks. When broken, we will move down to the last unbroken interval +1 and continue testing at intervals of 2. The total number of drops will be n1 + n2. The max height the phone can survive a fall is the floor below that."
   ]
  },
  {
   "cell_type": "markdown",
   "metadata": {},
   "source": [
    "$n = n_1 + n_2$"
   ]
  },
  {
   "cell_type": "markdown",
   "metadata": {},
   "source": [
    "n2 is dependent on n1 in that n2 = 100/n1/2. n1 is dependent on the interval size (i). n1 = 100/i."
   ]
  },
  {
   "cell_type": "code",
   "execution_count": 40,
   "metadata": {},
   "outputs": [
    {
     "data": {
      "text/plain": [
       "array([  1,   2,   3,   4,   5,   6,   7,   8,   9,  10,  11,  12,  13,\n",
       "        14,  15,  16,  17,  18,  19,  20,  21,  22,  23,  24,  25,  26,\n",
       "        27,  28,  29,  30,  31,  32,  33,  34,  35,  36,  37,  38,  39,\n",
       "        40,  41,  42,  43,  44,  45,  46,  47,  48,  49,  50,  51,  52,\n",
       "        53,  54,  55,  56,  57,  58,  59,  60,  61,  62,  63,  64,  65,\n",
       "        66,  67,  68,  69,  70,  71,  72,  73,  74,  75,  76,  77,  78,\n",
       "        79,  80,  81,  82,  83,  84,  85,  86,  87,  88,  89,  90,  91,\n",
       "        92,  93,  94,  95,  96,  97,  98,  99, 100])"
      ]
     },
     "execution_count": 40,
     "metadata": {},
     "output_type": "execute_result"
    }
   ],
   "source": [
    "import numpy as np\n",
    "i = np.arange(100)\n",
    "i += 1\n",
    "i"
   ]
  },
  {
   "cell_type": "code",
   "execution_count": 41,
   "metadata": {},
   "outputs": [
    {
     "data": {
      "text/plain": [
       "array([100.        ,  50.        ,  33.33333333,  25.        ,\n",
       "        20.        ,  16.66666667,  14.28571429,  12.5       ,\n",
       "        11.11111111,  10.        ,   9.09090909,   8.33333333,\n",
       "         7.69230769,   7.14285714,   6.66666667,   6.25      ,\n",
       "         5.88235294,   5.55555556,   5.26315789,   5.        ,\n",
       "         4.76190476,   4.54545455,   4.34782609,   4.16666667,\n",
       "         4.        ,   3.84615385,   3.7037037 ,   3.57142857,\n",
       "         3.44827586,   3.33333333,   3.22580645,   3.125     ,\n",
       "         3.03030303,   2.94117647,   2.85714286,   2.77777778,\n",
       "         2.7027027 ,   2.63157895,   2.56410256,   2.5       ,\n",
       "         2.43902439,   2.38095238,   2.3255814 ,   2.27272727,\n",
       "         2.22222222,   2.17391304,   2.12765957,   2.08333333,\n",
       "         2.04081633,   2.        ,   1.96078431,   1.92307692,\n",
       "         1.88679245,   1.85185185,   1.81818182,   1.78571429,\n",
       "         1.75438596,   1.72413793,   1.69491525,   1.66666667,\n",
       "         1.63934426,   1.61290323,   1.58730159,   1.5625    ,\n",
       "         1.53846154,   1.51515152,   1.49253731,   1.47058824,\n",
       "         1.44927536,   1.42857143,   1.4084507 ,   1.38888889,\n",
       "         1.36986301,   1.35135135,   1.33333333,   1.31578947,\n",
       "         1.2987013 ,   1.28205128,   1.26582278,   1.25      ,\n",
       "         1.2345679 ,   1.2195122 ,   1.20481928,   1.19047619,\n",
       "         1.17647059,   1.1627907 ,   1.14942529,   1.13636364,\n",
       "         1.12359551,   1.11111111,   1.0989011 ,   1.08695652,\n",
       "         1.07526882,   1.06382979,   1.05263158,   1.04166667,\n",
       "         1.03092784,   1.02040816,   1.01010101,   1.        ])"
      ]
     },
     "execution_count": 41,
     "metadata": {},
     "output_type": "execute_result"
    }
   ],
   "source": [
    "n1 = 100/i\n",
    "n1\n",
    "\n"
   ]
  },
  {
   "cell_type": "code",
   "execution_count": 42,
   "metadata": {},
   "outputs": [
    {
     "data": {
      "text/plain": [
       "array([-0.5,  0. ,  0.5,  1. ,  1.5,  2. ,  2.5,  3. ,  3.5,  4. ,  4.5,\n",
       "        5. ,  5.5,  6. ,  6.5,  7. ,  7.5,  8. ,  8.5,  9. ,  9.5, 10. ,\n",
       "       10.5, 11. , 11.5, 12. , 12.5, 13. , 13.5, 14. , 14.5, 15. , 15.5,\n",
       "       16. , 16.5, 17. , 17.5, 18. , 18.5, 19. , 19.5, 20. , 20.5, 21. ,\n",
       "       21.5, 22. , 22.5, 23. , 23.5, 24. , 24.5, 25. , 25.5, 26. , 26.5,\n",
       "       27. , 27.5, 28. , 28.5, 29. , 29.5, 30. , 30.5, 31. , 31.5, 32. ,\n",
       "       32.5, 33. , 33.5, 34. , 34.5, 35. , 35.5, 36. , 36.5, 37. , 37.5,\n",
       "       38. , 38.5, 39. , 39.5, 40. , 40.5, 41. , 41.5, 42. , 42.5, 43. ,\n",
       "       43.5, 44. , 44.5, 45. , 45.5, 46. , 46.5, 47. , 47.5, 48. , 48.5,\n",
       "       49. ])"
      ]
     },
     "execution_count": 42,
     "metadata": {},
     "output_type": "execute_result"
    }
   ],
   "source": [
    "n2 = (100/n1/2 - 1)\n",
    "n2"
   ]
  },
  {
   "cell_type": "code",
   "execution_count": 43,
   "metadata": {},
   "outputs": [],
   "source": [
    "n = n1 + n2"
   ]
  },
  {
   "cell_type": "code",
   "execution_count": 44,
   "metadata": {},
   "outputs": [
    {
     "data": {
      "text/plain": [
       "array([99.5       , 50.        , 33.83333333, 26.        , 21.5       ,\n",
       "       18.66666667, 16.78571429, 15.5       , 14.61111111, 14.        ,\n",
       "       13.59090909, 13.33333333, 13.19230769, 13.14285714, 13.16666667,\n",
       "       13.25      , 13.38235294, 13.55555556, 13.76315789, 14.        ,\n",
       "       14.26190476, 14.54545455, 14.84782609, 15.16666667, 15.5       ,\n",
       "       15.84615385, 16.2037037 , 16.57142857, 16.94827586, 17.33333333,\n",
       "       17.72580645, 18.125     , 18.53030303, 18.94117647, 19.35714286,\n",
       "       19.77777778, 20.2027027 , 20.63157895, 21.06410256, 21.5       ,\n",
       "       21.93902439, 22.38095238, 22.8255814 , 23.27272727, 23.72222222,\n",
       "       24.17391304, 24.62765957, 25.08333333, 25.54081633, 26.        ,\n",
       "       26.46078431, 26.92307692, 27.38679245, 27.85185185, 28.31818182,\n",
       "       28.78571429, 29.25438596, 29.72413793, 30.19491525, 30.66666667,\n",
       "       31.13934426, 31.61290323, 32.08730159, 32.5625    , 33.03846154,\n",
       "       33.51515152, 33.99253731, 34.47058824, 34.94927536, 35.42857143,\n",
       "       35.9084507 , 36.38888889, 36.86986301, 37.35135135, 37.83333333,\n",
       "       38.31578947, 38.7987013 , 39.28205128, 39.76582278, 40.25      ,\n",
       "       40.7345679 , 41.2195122 , 41.70481928, 42.19047619, 42.67647059,\n",
       "       43.1627907 , 43.64942529, 44.13636364, 44.62359551, 45.11111111,\n",
       "       45.5989011 , 46.08695652, 46.57526882, 47.06382979, 47.55263158,\n",
       "       48.04166667, 48.53092784, 49.02040816, 49.51010101, 50.        ])"
      ]
     },
     "execution_count": 44,
     "metadata": {},
     "output_type": "execute_result"
    }
   ],
   "source": [
    "n"
   ]
  },
  {
   "cell_type": "code",
   "execution_count": 45,
   "metadata": {},
   "outputs": [
    {
     "data": {
      "text/plain": [
       "14.0"
      ]
     },
     "execution_count": 45,
     "metadata": {},
     "output_type": "execute_result"
    }
   ],
   "source": [
    "np.ceil(min(n))"
   ]
  },
  {
   "cell_type": "markdown",
   "metadata": {},
   "source": [
    "Therefore, the lowest number of drops you can have is 14."
   ]
  },
  {
   "cell_type": "code",
   "execution_count": null,
   "metadata": {},
   "outputs": [],
   "source": []
  }
 ],
 "metadata": {
  "kernelspec": {
   "display_name": "Python [conda env:anaconda3]",
   "language": "python",
   "name": "conda-env-anaconda3-py"
  },
  "language_info": {
   "codemirror_mode": {
    "name": "ipython",
    "version": 3
   },
   "file_extension": ".py",
   "mimetype": "text/x-python",
   "name": "python",
   "nbconvert_exporter": "python",
   "pygments_lexer": "ipython3",
   "version": "3.6.5"
  }
 },
 "nbformat": 4,
 "nbformat_minor": 2
}
